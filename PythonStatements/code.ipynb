#While loop
x = 0 
while x < 5 :
    print(f'the current value of x is {x}')
    x = x + 1
else:
    print('5 is greater than x')
